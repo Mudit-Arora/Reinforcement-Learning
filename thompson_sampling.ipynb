{
  "nbformat": 4,
  "nbformat_minor": 0,
  "metadata": {
    "colab": {
      "provenance": [],
      "include_colab_link": true
    },
    "kernelspec": {
      "name": "python3",
      "display_name": "Python 3"
    }
  },
  "cells": [
    {
      "cell_type": "markdown",
      "metadata": {
        "id": "view-in-github",
        "colab_type": "text"
      },
      "source": [
        "<a href=\"https://colab.research.google.com/github/Mudit-Arora/Reinforcement-Learning/blob/main/thompson_sampling.ipynb\" target=\"_parent\"><img src=\"https://colab.research.google.com/assets/colab-badge.svg\" alt=\"Open In Colab\"/></a>"
      ]
    },
    {
      "cell_type": "markdown",
      "metadata": {
        "id": "vPKTIRAtx232"
      },
      "source": [
        "# Thompson Sampling"
      ]
    },
    {
      "cell_type": "markdown",
      "metadata": {
        "id": "PqPv9zpAx-EE"
      },
      "source": [
        "## Importing the libraries"
      ]
    },
    {
      "cell_type": "code",
      "metadata": {
        "id": "lozuE-Fhx_QB"
      },
      "source": [
        "import numpy as np\n",
        "import matplotlib.pyplot as plt\n",
        "import pandas as pd\n",
        "import random"
      ],
      "execution_count": null,
      "outputs": []
    },
    {
      "cell_type": "markdown",
      "metadata": {
        "id": "iqpVk5HhyGmO"
      },
      "source": [
        "## Importing the dataset"
      ]
    },
    {
      "cell_type": "code",
      "metadata": {
        "id": "kY4zzW4hyNfA"
      },
      "source": [
        "dataset = pd.read_csv('Ads_CTR_Optimisation.csv')"
      ],
      "execution_count": null,
      "outputs": []
    },
    {
      "cell_type": "markdown",
      "metadata": {
        "id": "WqoXeWOYyQhB"
      },
      "source": [
        "## Implementing Thompson Sampling"
      ]
    },
    {
      "cell_type": "code",
      "metadata": {
        "id": "PCiHv51pyUII"
      },
      "source": [
        "N = len(dataset) # Total number of rows in dataset\n",
        "d = len(dataset.columns) # Total number of columns\n",
        "selected_ads = [] # List for ads that are selected\n",
        "num_of_rewards_1 = [0] * d # Step 1: Number of rewards 1 for each ad\n",
        "num_of_rewards_0 = [0] * d # Step 1: Number of rewards 0 for each ad\n",
        "total_reward = 0 # Total reward\n",
        "\n",
        "# Loop through each round\n",
        "for i in range(N): # Step 2\n",
        "    ad = 0\n",
        "    max_rand = 0\n",
        "\n",
        "    # Loop through each ad\n",
        "    for j in range(d):\n",
        "        rand_beta = random.betavariate(num_of_rewards_1[j] + 1, num_of_rewards_0[j] + 1)\n",
        "        if rand_beta > max_rand: # Step 3\n",
        "            max_rand = rand_beta\n",
        "            ad = j\n",
        "\n",
        "    # Update selected ad\n",
        "    selected_ads.append(ad)\n",
        "    reward = dataset.values[i, ad]\n",
        "    if reward == 1:\n",
        "        num_of_rewards_1[ad] += 1\n",
        "    else:\n",
        "        num_of_rewards_0[ad] += 1 # Increment num_of_rewards_0 when reward is 0\n",
        "    total_reward += reward"
      ],
      "execution_count": null,
      "outputs": []
    },
    {
      "cell_type": "markdown",
      "metadata": {
        "id": "tweWsgTHyXhv"
      },
      "source": [
        "## Visualising the results - Histogram"
      ]
    },
    {
      "cell_type": "code",
      "metadata": {
        "id": "k8DJmN06yak3",
        "outputId": "96e095b2-00b4-4d07-9075-9008e9ce7d30",
        "colab": {
          "base_uri": "https://localhost:8080/",
          "height": 472
        }
      },
      "source": [
        "plt.hist(selected_ads)\n",
        "plt.title('Histogram of ads selections')\n",
        "plt.xlabel('Ads')\n",
        "plt.ylabel('Number of times each ad was selected')\n",
        "plt.show()"
      ],
      "execution_count": null,
      "outputs": [
        {
          "output_type": "display_data",
          "data": {
            "text/plain": [
              "<Figure size 640x480 with 1 Axes>"
            ],
            "image/png": "[encoded data removed]"
          },
          "metadata": {}
        }
      ]
    }
  ]
}